{
 "cells": [
  {
   "cell_type": "markdown",
   "metadata": {},
   "source": [
    "- VIX function uses N_30, number of minutes in 30 days, and N_365, number of minutes in 365 days. If weekly options are not available on some assets will these values change?"
   ]
  },
  {
   "cell_type": "code",
   "execution_count": 95,
   "metadata": {
    "collapsed": false
   },
   "outputs": [
    {
     "name": "stdout",
     "output_type": "stream",
     "text": [
      "['Sheet3', 'Near_term_calc', 'Next_term', 'Near_term']\n"
     ]
    }
   ],
   "source": [
    "import pandas as pd\n",
    "import numpy as np\n",
    "import datetime\n",
    "\n",
    "R1 = 0.000305\n",
    "MIN_IN_30 = 43200\n",
    "\n",
    "def _remove_consecutive_zeros(bids):\n",
    "    \"\"\" Finds the first occurence of consecutive zero values and removes them along with the remaining series value.\n",
    "    \n",
    "    Params:\n",
    "    =======\n",
    "    bids - pandas.series\n",
    "        indexed by strike with values sorted in descending order\n",
    "    \"\"\"\n",
    "    prev_strike = bids.index[0]\n",
    "    prev_bid = bids[prev_strike]\n",
    "    for strike, bid in bids.loc[bids.index[1]:].iteritems():\n",
    "        #print(prev_strike, prev_bid, strike, bid, sep=\":\\t\")\n",
    "        if prev_bid == 0.0: \n",
    "            if prev_bid == bid:\n",
    "                return bids.loc[:prev_strike-1]\n",
    "            else:\n",
    "                prev_strike = strike\n",
    "                prev_bid = bid\n",
    "        else:\n",
    "            prev_strike = strike\n",
    "            prev_bid = bid\n",
    "    return None \n",
    "\n",
    "def get_F(strike, r, t, callP, PutP):\n",
    "    return strike + np.exp(r * t) * (callP - putP)\n",
    "\n",
    "def get_T(expiration_date, expiration_type):\n",
    "    MIN_IN_YEAR = 525600\n",
    "    \n",
    "    \n",
    "    def min_until_midnight():\n",
    "        MIN_IN_DAY = 1440\n",
    "        now = datetime.datetime.now()\n",
    "        midnight = now.replace(hour=0, minute=0, second=0, microsecond=0)\n",
    "        return MIN_IN_DAY - (now - midnight).seconds / 60\n",
    "    \n",
    "    def min_remain(expiration_date):\n",
    "        ex = expiration_date\n",
    "        now = datetime.datetime.now().date()\n",
    "        return (ex-now).days * 24 * 60\n",
    "    \n",
    "    if expiration_type == 'w':\n",
    "        m_sett = 900\n",
    "    else: m_sett = 510\n",
    "    m_curr = min_until_midnight()\n",
    "    m_remain = min_remain(expiration_date)\n",
    "    return (m_sett + m_curr + m_remain) / MIN_IN_YEAR\n",
    "\n",
    "def get_var():\n",
    "    pass\n",
    "\n",
    "\n",
    "def VIX(T1, T2, var1, var2, NT1, NT2):\n",
    "    N30 = 43200\n",
    "    N365 = 525600\n",
    "    w1 = (NT2 - N30) / (NT2 - NT1)\n",
    "    w2 = (N30 - NT1) / (NT2 - NT1)\n",
    "    return 100 * np.sqrt(((T1 * var1 * w1) + (T2 * var2 * w2)) * (N365 / N30))\n",
    "\n",
    "def calculate_vix():\n",
    "    pass\n",
    "\n",
    "def main():\n",
    "    wrkbk = pd.ExcelFile('test_data.xlsx')\n",
    "    print(wrkbk.sheet_names)\n",
    "    nearDF = wrkbk.parse('Near_term', skiprows=1, index_col='Strike')\n",
    "    nearDF['Call_Avg'] = (nearDF['Bid'] + nearDF['Ask'])/2\n",
    "    nearDF['Put_Avg'] = (nearDF['Bid.1'] + nearDF['Ask.1'])/2\n",
    "    nearDF['Abs_diff'] = np.absolute(nearDF['Call_Avg'] - nearDF['Put_Avg'])\n",
    "    k_star = nearDF[nearDF['Abs_diff'] == nearDF['Abs_diff'].min()].index[0]\n",
    "    \n",
    "if __name__ == '__main__':\n",
    "    main()"
   ]
  },
  {
   "cell_type": "code",
   "execution_count": 96,
   "metadata": {
    "collapsed": false
   },
   "outputs": [],
   "source": [
    "a = datetime.date(2017, 1, 21)"
   ]
  },
  {
   "cell_type": "code",
   "execution_count": 97,
   "metadata": {
    "collapsed": false
   },
   "outputs": [
    {
     "data": {
      "text/plain": [
       "0.07024701927955353"
      ]
     },
     "execution_count": 97,
     "metadata": {},
     "output_type": "execute_result"
    }
   ],
   "source": [
    "get_T(a, 'weekly')"
   ]
  },
  {
   "cell_type": "code",
   "execution_count": 88,
   "metadata": {
    "collapsed": false
   },
   "outputs": [
    {
     "data": {
      "text/plain": [
       "470.4333333333333"
      ]
     },
     "execution_count": 88,
     "metadata": {},
     "output_type": "execute_result"
    }
   ],
   "source": [
    "import datetime\n",
    "MIN_IN_DAY = 1440\n",
    "now = datetime.datetime.now()\n",
    "midnight = now.replace(hour=0, minute=0, second=0, microsecond=0)\n",
    "min_until_midnight = MIN_IN_DAY - (now - midnight).seconds/60\n",
    "min_until_midnight"
   ]
  },
  {
   "cell_type": "code",
   "execution_count": 72,
   "metadata": {
    "collapsed": false
   },
   "outputs": [],
   "source": [
    "a = midnight - now"
   ]
  },
  {
   "cell_type": "code",
   "execution_count": 85,
   "metadata": {
    "collapsed": true
   },
   "outputs": [],
   "source": [
    "datetime.timedelta?"
   ]
  },
  {
   "cell_type": "code",
   "execution_count": 86,
   "metadata": {
    "collapsed": false
   },
   "outputs": [
    {
     "data": {
      "text/plain": [
       "datetime.timedelta(0, 57975, 237412)"
      ]
     },
     "execution_count": 86,
     "metadata": {},
     "output_type": "execute_result"
    }
   ],
   "source": [
    "now - midnight"
   ]
  },
  {
   "cell_type": "code",
   "execution_count": 82,
   "metadata": {
    "collapsed": false
   },
   "outputs": [
    {
     "name": "stdout",
     "output_type": "stream",
     "text": [
      "2016-12-27 00:00:00\n",
      "2016-12-27 16:06:15.237412\n"
     ]
    }
   ],
   "source": [
    "print(midnight)\n",
    "print(now)"
   ]
  },
  {
   "cell_type": "code",
   "execution_count": 1,
   "metadata": {
    "collapsed": false
   },
   "outputs": [
    {
     "ename": "NameError",
     "evalue": "name 'y' is not defined",
     "output_type": "error",
     "traceback": [
      "\u001b[1;31m---------------------------------------------------------------------------\u001b[0m",
      "\u001b[1;31mNameError\u001b[0m                                 Traceback (most recent call last)",
      "\u001b[1;32m<ipython-input-1-e39504f3786d>\u001b[0m in \u001b[0;36m<module>\u001b[1;34m()\u001b[0m\n\u001b[1;32m----> 1\u001b[1;33m \u001b[0my\u001b[0m \u001b[1;33m*\u001b[0m \u001b[1;33m(\u001b[0m\u001b[0my\u001b[0m\u001b[1;33m.\u001b[0m\u001b[0mgroupby\u001b[0m\u001b[1;33m(\u001b[0m\u001b[1;33m(\u001b[0m\u001b[0my\u001b[0m \u001b[1;33m!=\u001b[0m \u001b[0my\u001b[0m\u001b[1;33m.\u001b[0m\u001b[0mshift\u001b[0m\u001b[1;33m(\u001b[0m\u001b[1;33m)\u001b[0m\u001b[1;33m)\u001b[0m\u001b[1;33m.\u001b[0m\u001b[0mcumsum\u001b[0m\u001b[1;33m(\u001b[0m\u001b[1;33m)\u001b[0m\u001b[1;33m)\u001b[0m\u001b[1;33m.\u001b[0m\u001b[0mcumcount\u001b[0m\u001b[1;33m(\u001b[0m\u001b[1;33m)\u001b[0m \u001b[1;33m+\u001b[0m \u001b[1;36m1\u001b[0m\u001b[1;33m)\u001b[0m\u001b[1;33m\u001b[0m\u001b[0m\n\u001b[0m",
      "\u001b[1;31mNameError\u001b[0m: name 'y' is not defined"
     ]
    }
   ],
   "source": [
    "y * (y.groupby((y != y.shift()).cumsum()).cumcount() + 1)"
   ]
  },
  {
   "cell_type": "code",
   "execution_count": null,
   "metadata": {
    "collapsed": true
   },
   "outputs": [],
   "source": [
    "for el in range(len(nearDF['Bid']))"
   ]
  },
  {
   "cell_type": "code",
   "execution_count": 16,
   "metadata": {
    "collapsed": false,
    "scrolled": false
   },
   "outputs": [],
   "source": [
    "a = nearDF['Bid.1'] != nearDF['Bid.1'].shift()"
   ]
  },
  {
   "cell_type": "code",
   "execution_count": 23,
   "metadata": {
    "collapsed": false
   },
   "outputs": [],
   "source": [
    "b = a != a.shift()"
   ]
  },
  {
   "cell_type": "code",
   "execution_count": 26,
   "metadata": {
    "collapsed": false
   },
   "outputs": [],
   "source": [
    "c = nearDF.Bid"
   ]
  },
  {
   "cell_type": "code",
   "execution_count": 2,
   "metadata": {
    "collapsed": false
   },
   "outputs": [],
   "source": [
    "def _remove_consecutive_zeros(bids):\n",
    "    \"\"\" Finds the first occurence of consecutive zero values and removes them along with the remaining series value.\n",
    "    \n",
    "    Params:\n",
    "    =======\n",
    "    bids - pandas.series\n",
    "        indexed by strike with values sorted in descending order\n",
    "    \"\"\"\n",
    "    prev_strike = bids.index[0]\n",
    "    prev_bid = bids[prev_strike]\n",
    "    for strike, bid in bids.loc[bids.index[1]:].iteritems():\n",
    "        #print(prev_strike, prev_bid, strike, bid, sep=\":\\t\")\n",
    "        if prev_bid == 0.0: \n",
    "            if prev_bid == bid:\n",
    "                return bids.loc[:prev_strike-1]\n",
    "            else:\n",
    "                prev_strike = strike\n",
    "                prev_bid = bid\n",
    "        else:\n",
    "            prev_strike = strike\n",
    "            prev_bid = bid\n",
    "    return None "
   ]
  },
  {
   "cell_type": "code",
   "execution_count": 178,
   "metadata": {
    "collapsed": false,
    "scrolled": true
   },
   "outputs": [],
   "source": [
    "a= _find_consecutive_zeros(c)"
   ]
  },
  {
   "cell_type": "code",
   "execution_count": 179,
   "metadata": {
    "collapsed": false
   },
   "outputs": [
    {
     "data": {
      "text/plain": [
       "Strike\n",
       "800     1160.90\n",
       "900     1060.90\n",
       "1000     961.00\n",
       "1050     911.00\n",
       "1100     861.00\n",
       "1125     836.00\n",
       "1150     811.00\n",
       "1175     786.10\n",
       "1200     761.10\n",
       "1220     741.10\n",
       "1225     736.10\n",
       "1240     721.10\n",
       "1250     711.10\n",
       "1260     701.10\n",
       "1270     691.10\n",
       "1275     686.10\n",
       "1280     681.10\n",
       "1290     671.10\n",
       "1300     661.10\n",
       "1305     656.10\n",
       "1310     651.10\n",
       "1315     646.10\n",
       "1320     641.20\n",
       "1325     636.20\n",
       "1330     631.20\n",
       "1335     626.20\n",
       "1340     621.20\n",
       "1345     616.20\n",
       "1350     611.20\n",
       "1355     606.20\n",
       "         ...   \n",
       "1965      20.30\n",
       "1970      17.40\n",
       "1975      14.60\n",
       "1980      12.20\n",
       "1985       9.90\n",
       "1990       7.90\n",
       "1995       6.20\n",
       "2000       4.70\n",
       "2005       3.40\n",
       "2010       2.65\n",
       "2015       1.75\n",
       "2020       1.20\n",
       "2025       1.00\n",
       "2030       0.45\n",
       "2035       0.25\n",
       "2040       0.35\n",
       "2045       0.20\n",
       "2050       0.20\n",
       "2055       0.15\n",
       "2060       0.15\n",
       "2065       0.15\n",
       "2070       0.10\n",
       "2075       0.10\n",
       "2080       0.05\n",
       "2085       0.05\n",
       "2090       0.05\n",
       "2095       0.05\n",
       "2100       0.05\n",
       "2120       0.00\n",
       "2125       0.05\n",
       "Name: Bid, dtype: float64"
      ]
     },
     "execution_count": 179,
     "metadata": {},
     "output_type": "execute_result"
    }
   ],
   "source": [
    "a"
   ]
  },
  {
   "cell_type": "code",
   "execution_count": 146,
   "metadata": {
    "collapsed": true
   },
   "outputs": [],
   "source": [
    "def test(bids):\n",
    "    a_bids = bids.shift() - bids\n",
    "    for strike, bid in a_bids.iteritems():\n",
    "        if bid == 0.0:\n",
    "            return(strike)"
   ]
  },
  {
   "cell_type": "code",
   "execution_count": 156,
   "metadata": {
    "collapsed": false
   },
   "outputs": [
    {
     "data": {
      "text/plain": [
       "Strike\n",
       "800     1160.90\n",
       "900     1060.90\n",
       "1000     961.00\n",
       "1050     911.00\n",
       "1100     861.00\n",
       "1125     836.00\n",
       "1150     811.00\n",
       "1175     786.10\n",
       "1200     761.10\n",
       "1220     741.10\n",
       "1225     736.10\n",
       "1240     721.10\n",
       "1250     711.10\n",
       "1260     701.10\n",
       "1270     691.10\n",
       "1275     686.10\n",
       "1280     681.10\n",
       "1290     671.10\n",
       "1300     661.10\n",
       "1305     656.10\n",
       "1310     651.10\n",
       "1315     646.10\n",
       "1320     641.20\n",
       "1325     636.20\n",
       "1330     631.20\n",
       "1335     626.20\n",
       "1340     621.20\n",
       "1345     616.20\n",
       "1350     611.20\n",
       "1355     606.20\n",
       "         ...   \n",
       "1990       7.90\n",
       "1995       6.20\n",
       "2000       4.70\n",
       "2005       3.40\n",
       "2010       2.65\n",
       "2015       1.75\n",
       "2020       1.20\n",
       "2025       1.00\n",
       "2030       0.45\n",
       "2035       0.25\n",
       "2040       0.35\n",
       "2045       0.20\n",
       "2050       0.20\n",
       "2055       0.15\n",
       "2060       0.15\n",
       "2065       0.15\n",
       "2070       0.10\n",
       "2075       0.10\n",
       "2080       0.05\n",
       "2085       0.05\n",
       "2090       0.05\n",
       "2095       0.05\n",
       "2100       0.05\n",
       "2120       0.00\n",
       "2125       0.05\n",
       "2150       0.00\n",
       "2175       0.00\n",
       "2200       0.00\n",
       "2225       0.05\n",
       "2250       0.00\n",
       "Name: Bid, dtype: float64"
      ]
     },
     "execution_count": 156,
     "metadata": {},
     "output_type": "execute_result"
    }
   ],
   "source": [
    "c"
   ]
  },
  {
   "cell_type": "code",
   "execution_count": 15,
   "metadata": {
    "collapsed": false
   },
   "outputs": [
    {
     "data": {
      "text/plain": [
       "Strike\n",
       "800       0.00\n",
       "900       0.00\n",
       "1000      0.00\n",
       "1050      0.00\n",
       "1100      0.00\n",
       "1125      0.00\n",
       "1150      0.00\n",
       "1175      0.00\n",
       "1200      0.00\n",
       "1220      0.00\n",
       "1225      0.00\n",
       "1240      0.00\n",
       "1250      0.00\n",
       "1260      0.00\n",
       "1270      0.00\n",
       "1275      0.00\n",
       "1280      0.00\n",
       "1290      0.00\n",
       "1300      0.05\n",
       "1305      0.00\n",
       "1310      0.00\n",
       "1315      0.00\n",
       "1320      0.00\n",
       "1325      0.05\n",
       "1330      0.00\n",
       "1335      0.00\n",
       "1340      0.00\n",
       "1345      0.00\n",
       "1350      0.05\n",
       "1355      0.10\n",
       "         ...  \n",
       "1990     34.30\n",
       "1995     37.40\n",
       "2000     40.70\n",
       "2005     44.00\n",
       "2010     48.00\n",
       "2015     52.20\n",
       "2020     56.60\n",
       "2025     61.20\n",
       "2030     65.90\n",
       "2035     70.70\n",
       "2040     75.60\n",
       "2045     80.50\n",
       "2050     85.40\n",
       "2055     90.40\n",
       "2060     95.30\n",
       "2065    100.30\n",
       "2070    105.30\n",
       "2075    110.30\n",
       "2080    115.30\n",
       "2085    120.30\n",
       "2090    125.30\n",
       "2095    130.30\n",
       "2100    135.30\n",
       "2120    155.30\n",
       "2125    160.30\n",
       "2150    185.20\n",
       "2175    210.20\n",
       "2200    235.20\n",
       "2225    260.20\n",
       "2250    285.20\n",
       "dtype: float64"
      ]
     },
     "execution_count": 15,
     "metadata": {},
     "output_type": "execute_result"
    }
   ],
   "source": [
    "nearDF['Bid.1'] * (nearDF['Bid.1'].groupby((nearDF['Bid.1'] != nearDF['Bid.1'].shift()).cumsum()).cumcount()+1)"
   ]
  },
  {
   "cell_type": "code",
   "execution_count": 26,
   "metadata": {
    "collapsed": false
   },
   "outputs": [
    {
     "ename": "NotImplementedError",
     "evalue": "currently only yahoo supported",
     "output_type": "error",
     "traceback": [
      "\u001b[0;31m---------------------------------------------------------------------------\u001b[0m",
      "\u001b[0;31mNotImplementedError\u001b[0m                       Traceback (most recent call last)",
      "\u001b[0;32m<ipython-input-26-cf263f6971c5>\u001b[0m in \u001b[0;36m<module>\u001b[0;34m()\u001b[0m\n\u001b[1;32m      1\u001b[0m \u001b[1;32mimport\u001b[0m \u001b[0mpandas_datareader\u001b[0m\u001b[1;33m.\u001b[0m\u001b[0mdata\u001b[0m \u001b[1;32mas\u001b[0m \u001b[0mweb\u001b[0m\u001b[1;33m\u001b[0m\u001b[0m\n\u001b[1;32m      2\u001b[0m \u001b[1;32mfrom\u001b[0m \u001b[0mpandas_datareader\u001b[0m\u001b[1;33m.\u001b[0m\u001b[0mdata\u001b[0m \u001b[1;32mimport\u001b[0m \u001b[0mOptions\u001b[0m\u001b[1;33m\u001b[0m\u001b[0m\n\u001b[0;32m----> 3\u001b[0;31m \u001b[0maapl\u001b[0m \u001b[1;33m=\u001b[0m \u001b[0mOptions\u001b[0m\u001b[1;33m(\u001b[0m\u001b[1;34m'aapl'\u001b[0m\u001b[1;33m,\u001b[0m \u001b[1;34m'google'\u001b[0m\u001b[1;33m)\u001b[0m\u001b[1;33m\u001b[0m\u001b[0m\n\u001b[0m\u001b[1;32m      4\u001b[0m \u001b[0mex_dates\u001b[0m \u001b[1;33m=\u001b[0m \u001b[0maapl\u001b[0m\u001b[1;33m.\u001b[0m\u001b[0mexpiry_dates\u001b[0m\u001b[1;33m(\u001b[0m\u001b[1;33m)\u001b[0m\u001b[1;33m\u001b[0m\u001b[0m\n\u001b[1;32m      5\u001b[0m \u001b[0mdata\u001b[0m \u001b[1;33m=\u001b[0m \u001b[0maapl\u001b[0m\u001b[1;33m.\u001b[0m\u001b[0mget_all_data\u001b[0m\u001b[1;33m(\u001b[0m\u001b[1;33m)\u001b[0m\u001b[1;33m\u001b[0m\u001b[0m\n",
      "\u001b[0;32md:\\dropbox\\my documents\\programming\\python_projects\\vix\\lib\\site-packages\\pandas_datareader\\data.py\u001b[0m in \u001b[0;36mOptions\u001b[0;34m(symbol, data_source, session)\u001b[0m\n\u001b[1;32m    137\u001b[0m         \u001b[1;32mreturn\u001b[0m \u001b[0mYahooOptions\u001b[0m\u001b[1;33m(\u001b[0m\u001b[0msymbol\u001b[0m\u001b[1;33m,\u001b[0m \u001b[0msession\u001b[0m\u001b[1;33m=\u001b[0m\u001b[0msession\u001b[0m\u001b[1;33m)\u001b[0m\u001b[1;33m\u001b[0m\u001b[0m\n\u001b[1;32m    138\u001b[0m     \u001b[1;32melse\u001b[0m\u001b[1;33m:\u001b[0m\u001b[1;33m\u001b[0m\u001b[0m\n\u001b[0;32m--> 139\u001b[0;31m         \u001b[1;32mraise\u001b[0m \u001b[0mNotImplementedError\u001b[0m\u001b[1;33m(\u001b[0m\u001b[1;34m\"currently only yahoo supported\"\u001b[0m\u001b[1;33m)\u001b[0m\u001b[1;33m\u001b[0m\u001b[0m\n\u001b[0m",
      "\u001b[0;31mNotImplementedError\u001b[0m: currently only yahoo supported"
     ]
    }
   ],
   "source": [
    "import pandas_datareader.data as web\n",
    "from pandas_datareader.data import Options\n",
    "aapl = Options('aapl', 'google')\n",
    "ex_dates = aapl.expiry_dates()\n",
    "data = aapl.get_all_data()"
   ]
  },
  {
   "cell_type": "code",
   "execution_count": 25,
   "metadata": {
    "collapsed": false
   },
   "outputs": [
    {
     "ename": "NotImplementedError",
     "evalue": "currently only yahoo supported",
     "output_type": "error",
     "traceback": [
      "\u001b[0;31m---------------------------------------------------------------------------\u001b[0m",
      "\u001b[0;31mNotImplementedError\u001b[0m                       Traceback (most recent call last)",
      "\u001b[0;32m<ipython-input-25-a193fc9623e5>\u001b[0m in \u001b[0;36m<module>\u001b[0;34m()\u001b[0m\n\u001b[0;32m----> 1\u001b[0;31m \u001b[0maapl\u001b[0m \u001b[1;33m=\u001b[0m \u001b[0mOptions\u001b[0m\u001b[1;33m(\u001b[0m\u001b[1;34m'aapl'\u001b[0m\u001b[1;33m,\u001b[0m \u001b[1;34m'google'\u001b[0m\u001b[1;33m)\u001b[0m\u001b[1;33m\u001b[0m\u001b[0m\n\u001b[0m",
      "\u001b[0;32md:\\dropbox\\my documents\\programming\\python_projects\\vix\\lib\\site-packages\\pandas_datareader\\data.py\u001b[0m in \u001b[0;36mOptions\u001b[0;34m(symbol, data_source, session)\u001b[0m\n\u001b[1;32m    137\u001b[0m         \u001b[1;32mreturn\u001b[0m \u001b[0mYahooOptions\u001b[0m\u001b[1;33m(\u001b[0m\u001b[0msymbol\u001b[0m\u001b[1;33m,\u001b[0m \u001b[0msession\u001b[0m\u001b[1;33m=\u001b[0m\u001b[0msession\u001b[0m\u001b[1;33m)\u001b[0m\u001b[1;33m\u001b[0m\u001b[0m\n\u001b[1;32m    138\u001b[0m     \u001b[1;32melse\u001b[0m\u001b[1;33m:\u001b[0m\u001b[1;33m\u001b[0m\u001b[0m\n\u001b[0;32m--> 139\u001b[0;31m         \u001b[1;32mraise\u001b[0m \u001b[0mNotImplementedError\u001b[0m\u001b[1;33m(\u001b[0m\u001b[1;34m\"currently only yahoo supported\"\u001b[0m\u001b[1;33m)\u001b[0m\u001b[1;33m\u001b[0m\u001b[0m\n\u001b[0m",
      "\u001b[0;31mNotImplementedError\u001b[0m: currently only yahoo supported"
     ]
    }
   ],
   "source": [
    "aapl = Options('aapl', 'google')"
   ]
  },
  {
   "cell_type": "code",
   "execution_count": 24,
   "metadata": {
    "collapsed": false
   },
   "outputs": [
    {
     "ename": "RemoteDataError",
     "evalue": "Data not available",
     "output_type": "error",
     "traceback": [
      "\u001b[0;31m---------------------------------------------------------------------------\u001b[0m",
      "\u001b[0;31mAttributeError\u001b[0m                            Traceback (most recent call last)",
      "\u001b[0;32md:\\dropbox\\my documents\\programming\\python_projects\\vix\\lib\\site-packages\\pandas_datareader\\yahoo\\options.py\u001b[0m in \u001b[0;36mexpiry_dates\u001b[0;34m(self)\u001b[0m\n\u001b[1;32m    618\u001b[0m         \u001b[1;32mtry\u001b[0m\u001b[1;33m:\u001b[0m\u001b[1;33m\u001b[0m\u001b[0m\n\u001b[0;32m--> 619\u001b[0;31m             \u001b[0mexpiry_dates\u001b[0m \u001b[1;33m=\u001b[0m \u001b[0mself\u001b[0m\u001b[1;33m.\u001b[0m\u001b[0m_expiry_dates\u001b[0m\u001b[1;33m\u001b[0m\u001b[0m\n\u001b[0m\u001b[1;32m    620\u001b[0m         \u001b[1;32mexcept\u001b[0m \u001b[0mAttributeError\u001b[0m\u001b[1;33m:\u001b[0m\u001b[1;33m\u001b[0m\u001b[0m\n",
      "\u001b[0;31mAttributeError\u001b[0m: 'Options' object has no attribute '_expiry_dates'",
      "\nDuring handling of the above exception, another exception occurred:\n",
      "\u001b[0;31mRemoteDataError\u001b[0m                           Traceback (most recent call last)",
      "\u001b[0;32m<ipython-input-24-a2dc6d91ec5f>\u001b[0m in \u001b[0;36m<module>\u001b[0;34m()\u001b[0m\n\u001b[0;32m----> 1\u001b[0;31m \u001b[0mdata\u001b[0m \u001b[1;33m=\u001b[0m \u001b[0maapl\u001b[0m\u001b[1;33m.\u001b[0m\u001b[0mget_all_data\u001b[0m\u001b[1;33m(\u001b[0m\u001b[1;33m)\u001b[0m\u001b[1;33m\u001b[0m\u001b[0m\n\u001b[0m",
      "\u001b[0;32md:\\dropbox\\my documents\\programming\\python_projects\\vix\\lib\\site-packages\\pandas_datareader\\yahoo\\options.py\u001b[0m in \u001b[0;36mget_all_data\u001b[0;34m(self, call, put)\u001b[0m\n\u001b[1;32m    591\u001b[0m         \"\"\"\n\u001b[1;32m    592\u001b[0m \u001b[1;33m\u001b[0m\u001b[0m\n\u001b[0;32m--> 593\u001b[0;31m         \u001b[0mexpiry_dates\u001b[0m \u001b[1;33m=\u001b[0m \u001b[0mself\u001b[0m\u001b[1;33m.\u001b[0m\u001b[0mexpiry_dates\u001b[0m\u001b[1;33m\u001b[0m\u001b[0m\n\u001b[0m\u001b[1;32m    594\u001b[0m         \u001b[1;32mreturn\u001b[0m \u001b[0mself\u001b[0m\u001b[1;33m.\u001b[0m\u001b[0m_get_data_in_date_range\u001b[0m\u001b[1;33m(\u001b[0m\u001b[0mdates\u001b[0m\u001b[1;33m=\u001b[0m\u001b[0mexpiry_dates\u001b[0m\u001b[1;33m,\u001b[0m \u001b[0mcall\u001b[0m\u001b[1;33m=\u001b[0m\u001b[0mcall\u001b[0m\u001b[1;33m,\u001b[0m \u001b[0mput\u001b[0m\u001b[1;33m=\u001b[0m\u001b[0mput\u001b[0m\u001b[1;33m)\u001b[0m\u001b[1;33m\u001b[0m\u001b[0m\n\u001b[1;32m    595\u001b[0m \u001b[1;33m\u001b[0m\u001b[0m\n",
      "\u001b[0;32md:\\dropbox\\my documents\\programming\\python_projects\\vix\\lib\\site-packages\\pandas_datareader\\yahoo\\options.py\u001b[0m in \u001b[0;36mexpiry_dates\u001b[0;34m(self)\u001b[0m\n\u001b[1;32m    619\u001b[0m             \u001b[0mexpiry_dates\u001b[0m \u001b[1;33m=\u001b[0m \u001b[0mself\u001b[0m\u001b[1;33m.\u001b[0m\u001b[0m_expiry_dates\u001b[0m\u001b[1;33m\u001b[0m\u001b[0m\n\u001b[1;32m    620\u001b[0m         \u001b[1;32mexcept\u001b[0m \u001b[0mAttributeError\u001b[0m\u001b[1;33m:\u001b[0m\u001b[1;33m\u001b[0m\u001b[0m\n\u001b[0;32m--> 621\u001b[0;31m             \u001b[0mexpiry_dates\u001b[0m\u001b[1;33m,\u001b[0m \u001b[0m_\u001b[0m \u001b[1;33m=\u001b[0m \u001b[0mself\u001b[0m\u001b[1;33m.\u001b[0m\u001b[0m_get_expiry_dates_and_links\u001b[0m\u001b[1;33m(\u001b[0m\u001b[1;33m)\u001b[0m\u001b[1;33m\u001b[0m\u001b[0m\n\u001b[0m\u001b[1;32m    622\u001b[0m         \u001b[1;32mreturn\u001b[0m \u001b[0mexpiry_dates\u001b[0m\u001b[1;33m\u001b[0m\u001b[0m\n\u001b[1;32m    623\u001b[0m \u001b[1;33m\u001b[0m\u001b[0m\n",
      "\u001b[0;32md:\\dropbox\\my documents\\programming\\python_projects\\vix\\lib\\site-packages\\pandas_datareader\\yahoo\\options.py\u001b[0m in \u001b[0;36m_get_expiry_dates_and_links\u001b[0;34m(self)\u001b[0m\n\u001b[1;32m    645\u001b[0m \u001b[1;33m\u001b[0m\u001b[0m\n\u001b[1;32m    646\u001b[0m         \u001b[1;32mif\u001b[0m \u001b[0mlen\u001b[0m\u001b[1;33m(\u001b[0m\u001b[0mexpiry_dates\u001b[0m\u001b[1;33m)\u001b[0m \u001b[1;33m==\u001b[0m \u001b[1;36m0\u001b[0m\u001b[1;33m:\u001b[0m\u001b[1;33m\u001b[0m\u001b[0m\n\u001b[0;32m--> 647\u001b[0;31m             \u001b[1;32mraise\u001b[0m \u001b[0mRemoteDataError\u001b[0m\u001b[1;33m(\u001b[0m\u001b[1;34m'Data not available'\u001b[0m\u001b[1;33m)\u001b[0m \u001b[1;31m# pragma: no cover\u001b[0m\u001b[1;33m\u001b[0m\u001b[0m\n\u001b[0m\u001b[1;32m    648\u001b[0m \u001b[1;33m\u001b[0m\u001b[0m\n\u001b[1;32m    649\u001b[0m         \u001b[0mexpiry_links\u001b[0m \u001b[1;33m=\u001b[0m \u001b[0mdict\u001b[0m\u001b[1;33m(\u001b[0m\u001b[0mzip\u001b[0m\u001b[1;33m(\u001b[0m\u001b[0mexpiry_dates\u001b[0m\u001b[1;33m,\u001b[0m \u001b[0mlinks\u001b[0m\u001b[1;33m)\u001b[0m\u001b[1;33m)\u001b[0m\u001b[1;33m\u001b[0m\u001b[0m\n",
      "\u001b[0;31mRemoteDataError\u001b[0m: Data not available"
     ]
    }
   ],
   "source": [
    "data = aapl.get_all_data()"
   ]
  },
  {
   "cell_type": "code",
   "execution_count": 8,
   "metadata": {
    "collapsed": true
   },
   "outputs": [],
   "source": [
    "from pandas_datareader.data import Options"
   ]
  },
  {
   "cell_type": "code",
   "execution_count": 9,
   "metadata": {
    "collapsed": true
   },
   "outputs": [],
   "source": [
    "import pandas_datareader"
   ]
  },
  {
   "cell_type": "code",
   "execution_count": null,
   "metadata": {
    "collapsed": true
   },
   "outputs": [],
   "source": [
    "pandas_datareader.data."
   ]
  }
 ],
 "metadata": {
  "anaconda-cloud": {},
  "kernelspec": {
   "display_name": "Python [Root]",
   "language": "python",
   "name": "Python [Root]"
  },
  "language_info": {
   "codemirror_mode": {
    "name": "ipython",
    "version": 3
   },
   "file_extension": ".py",
   "mimetype": "text/x-python",
   "name": "python",
   "nbconvert_exporter": "python",
   "pygments_lexer": "ipython3",
   "version": "3.5.1"
  }
 },
 "nbformat": 4,
 "nbformat_minor": 0
}
