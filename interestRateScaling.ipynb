{
 "cells": [
  {
   "cell_type": "code",
   "execution_count": 1,
   "metadata": {
    "collapsed": true
   },
   "outputs": [],
   "source": [
    "def get_geometric_average(df, n=13, period='d', convert_to='m', dataType='tbill'):\n",
    "    \"\"\"\n",
    "    Take the quoted rates on n-period time series and convert to a scaled value using geometric average.\n",
    "    \n",
    "    Parameters:\n",
    "    ==========\n",
    "        df - dataframe:\n",
    "            A pandas dataframe of the values you wish to convert\n",
    "        n - int:\n",
    "            The published period - less than 1 year, 12 months, 52 weeks, 360 days, etc.\n",
    "        period - string:\n",
    "            The period duration - day, week, month, etc.\n",
    "        convert_to - string:\n",
    "            The period you want to covert over to\n",
    "            \n",
    "    Output:\n",
    "    ======\n",
    "        Returns a Dataframe with the average rates\n",
    "        \n",
    "    Examples:\n",
    "    ========\n",
    "        get_geometric_average(data, 13, 'w', 'd') - Finds the daily average for each record in the 13 week tbill dataset.\n",
    "     \"\"\"\n",
    "    def prepare_tbill_data(df, n, period):\n",
    "        \"\"\"\n",
    "        Converts the tbill published rates to actual values for the n-period.\n",
    "        \"\"\"\n",
    "        df['Rate'] = 100 / (100 - df[['Close']]*(n / period_types_in_year[period])) - 1\n",
    "        return df[['Rate']]\n",
    "    \n",
    "    def convert_period_value(n, period, convert_to):\n",
    "        \"\"\"\n",
    "        \"\"\"\n",
    "        return n * (1 / period_types_in_year[period]) * (1 / period_types_in_year[convert_to])\n",
    "    \n",
    "    period_types_in_year = {'d':360, 'w':52, 'm':12}\n",
    "    dataTypes = ['tbill','other']\n",
    "    \n",
    "    assert period in period_types_in_year.keys(), str(period) + \" not a valid entry\"\n",
    "    assert convert_to in period_types_in_year.keys(), str(convert_to) + ' not a valid entry'\n",
    "    assert dataType in dataTypes, 'dataType not a valid entry'    \n",
    "    \n",
    "    if dataType == 'tbill':\n",
    "        df = prepare_tbill_data(df, n, period)\n",
    "        \n",
    "    x = convert_period_value(n, period, convert_to)\n",
    "    df['avg_rate'] = (1 + df['Rate']) ** (1/x) - 1\n",
    "    return df[['avg_rate']]"
   ]
  },
  {
   "cell_type": "code",
   "execution_count": null,
   "metadata": {
    "collapsed": true
   },
   "outputs": [],
   "source": []
  }
 ],
 "metadata": {
  "kernelspec": {
   "display_name": "Python [Root]",
   "language": "python",
   "name": "Python [Root]"
  },
  "language_info": {
   "codemirror_mode": {
    "name": "ipython",
    "version": 3
   },
   "file_extension": ".py",
   "mimetype": "text/x-python",
   "name": "python",
   "nbconvert_exporter": "python",
   "pygments_lexer": "ipython3",
   "version": "3.5.2"
  }
 },
 "nbformat": 4,
 "nbformat_minor": 0
}
